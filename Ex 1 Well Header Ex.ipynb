{
 "cells": [
  {
   "cell_type": "markdown",
   "metadata": {},
   "source": [
    "# Examing Well File for Teapot Dome Field, Natrona County, Wyoming"
   ]
  },
  {
   "cell_type": "code",
   "execution_count": 1,
   "metadata": {},
   "outputs": [],
   "source": [
    "import pandas as pd\n",
    "import numpy as np\n",
    "import matplotlib.pyplot as plt\n",
    "# SET GLOBAL STYLE PARAMETERS\n",
    "plt.style.use('ggplot') # This is a global setting\n",
    "plt.rcParams[\"figure.figsize\"]=6,4  #10 x 8 is default figure size in Jupyter Notebook"
   ]
  },
  {
   "cell_type": "markdown",
   "metadata": {},
   "source": [
    "### Import and Examine Well Header Data\n",
    "- API Number should be a character variable and the same length\n",
    "- Do the spud dates look reasonable?\n",
    "- Do the Datum Elevations look reasonable?\n",
    "- Are there any duplicate API Number?"
   ]
  },
  {
   "cell_type": "code",
   "execution_count": 2,
   "metadata": {
    "scrolled": true
   },
   "outputs": [],
   "source": [
    "# Read Data from local drive\n",
    "# df = pd.read_csv('/Users/davidadvocate/Documents/Python/Data/sE1 Well Headers.csv')\n",
    "# df.info()\n",
    "\n",
    "# df.describe().astype(int)"
   ]
  },
  {
   "cell_type": "code",
   "execution_count": 3,
   "metadata": {},
   "outputs": [
    {
     "data": {
      "text/html": [
       "<div>\n",
       "<style scoped>\n",
       "    .dataframe tbody tr th:only-of-type {\n",
       "        vertical-align: middle;\n",
       "    }\n",
       "\n",
       "    .dataframe tbody tr th {\n",
       "        vertical-align: top;\n",
       "    }\n",
       "\n",
       "    .dataframe thead th {\n",
       "        text-align: right;\n",
       "    }\n",
       "</style>\n",
       "<table border=\"1\" class=\"dataframe\">\n",
       "  <thead>\n",
       "    <tr style=\"text-align: right;\">\n",
       "      <th></th>\n",
       "      <th>API Number</th>\n",
       "      <th>Northing</th>\n",
       "      <th>Easting</th>\n",
       "      <th>Total Depth</th>\n",
       "      <th>Datum Elevation</th>\n",
       "      <th>Ground Elevation</th>\n",
       "      <th>Plugback Depth</th>\n",
       "    </tr>\n",
       "  </thead>\n",
       "  <tbody>\n",
       "    <tr>\n",
       "      <th>count</th>\n",
       "      <td>1317</td>\n",
       "      <td>1317</td>\n",
       "      <td>1317</td>\n",
       "      <td>1310</td>\n",
       "      <td>1317</td>\n",
       "      <td>1263</td>\n",
       "      <td>221</td>\n",
       "    </tr>\n",
       "    <tr>\n",
       "      <th>mean</th>\n",
       "      <td>490251282775</td>\n",
       "      <td>958516</td>\n",
       "      <td>801571</td>\n",
       "      <td>1728</td>\n",
       "      <td>5160</td>\n",
       "      <td>5126</td>\n",
       "      <td>1160</td>\n",
       "    </tr>\n",
       "    <tr>\n",
       "      <th>std</th>\n",
       "      <td>535709</td>\n",
       "      <td>6898</td>\n",
       "      <td>3904</td>\n",
       "      <td>1359</td>\n",
       "      <td>77</td>\n",
       "      <td>816</td>\n",
       "      <td>1012</td>\n",
       "    </tr>\n",
       "    <tr>\n",
       "      <th>min</th>\n",
       "      <td>490250631800</td>\n",
       "      <td>939759</td>\n",
       "      <td>789514</td>\n",
       "      <td>180</td>\n",
       "      <td>4921</td>\n",
       "      <td>0</td>\n",
       "      <td>0</td>\n",
       "    </tr>\n",
       "    <tr>\n",
       "      <th>25%</th>\n",
       "      <td>490251055400</td>\n",
       "      <td>953898</td>\n",
       "      <td>800232</td>\n",
       "      <td>566</td>\n",
       "      <td>5120</td>\n",
       "      <td>5115</td>\n",
       "      <td>467</td>\n",
       "    </tr>\n",
       "    <tr>\n",
       "      <th>50%</th>\n",
       "      <td>490251093000</td>\n",
       "      <td>957241</td>\n",
       "      <td>802307</td>\n",
       "      <td>1004</td>\n",
       "      <td>5170</td>\n",
       "      <td>5163</td>\n",
       "      <td>750</td>\n",
       "    </tr>\n",
       "    <tr>\n",
       "      <th>75%</th>\n",
       "      <td>490251130600</td>\n",
       "      <td>962286</td>\n",
       "      <td>803880</td>\n",
       "      <td>2853</td>\n",
       "      <td>5205</td>\n",
       "      <td>5199</td>\n",
       "      <td>1537</td>\n",
       "    </tr>\n",
       "    <tr>\n",
       "      <th>max</th>\n",
       "      <td>490256012901</td>\n",
       "      <td>979507</td>\n",
       "      <td>809092</td>\n",
       "      <td>6864</td>\n",
       "      <td>5524</td>\n",
       "      <td>17181</td>\n",
       "      <td>5411</td>\n",
       "    </tr>\n",
       "  </tbody>\n",
       "</table>\n",
       "</div>"
      ],
      "text/plain": [
       "         API Number  Northing  Easting  Total Depth  Datum Elevation  \\\n",
       "count          1317      1317     1317         1310             1317   \n",
       "mean   490251282775    958516   801571         1728             5160   \n",
       "std          535709      6898     3904         1359               77   \n",
       "min    490250631800    939759   789514          180             4921   \n",
       "25%    490251055400    953898   800232          566             5120   \n",
       "50%    490251093000    957241   802307         1004             5170   \n",
       "75%    490251130600    962286   803880         2853             5205   \n",
       "max    490256012901    979507   809092         6864             5524   \n",
       "\n",
       "       Ground Elevation  Plugback Depth  \n",
       "count              1263             221  \n",
       "mean               5126            1160  \n",
       "std                 816            1012  \n",
       "min                   0               0  \n",
       "25%                5115             467  \n",
       "50%                5163             750  \n",
       "75%                5199            1537  \n",
       "max               17181            5411  "
      ]
     },
     "execution_count": 3,
     "metadata": {},
     "output_type": "execute_result"
    }
   ],
   "source": [
    "# Read EX 1 CSV Data from Github site\n",
    "import requests\n",
    "import io\n",
    "    \n",
    "# Downloading the csv file from your GitHub account\n",
    "# To get the url, click on the CSV file in your Github site,\n",
    "# then click the raw button. Copy the like into the line below the points to the url:\n",
    "\n",
    "url = \"https://raw.githubusercontent.com/dmadvoc/Petroleum-Geology-Analyses/main/sE1%20Well%20Headers.csv\" # Make sure the url is the raw version of the file on GitHub\n",
    "download = requests.get(url).content\n",
    "\n",
    "# Reading the downloaded content and turning it into a pandas dataframe\n",
    "\n",
    "df = pd.read_csv(io.StringIO(download.decode('utf-8')))\n",
    "\n",
    "df.describe().astype(int)"
   ]
  },
  {
   "cell_type": "markdown",
   "metadata": {},
   "source": [
    "### What is the lenght of the API Number - are they all the same?"
   ]
  },
  {
   "cell_type": "code",
   "execution_count": 4,
   "metadata": {
    "scrolled": true
   },
   "outputs": [
    {
     "data": {
      "text/html": [
       "<div>\n",
       "<style scoped>\n",
       "    .dataframe tbody tr th:only-of-type {\n",
       "        vertical-align: middle;\n",
       "    }\n",
       "\n",
       "    .dataframe tbody tr th {\n",
       "        vertical-align: top;\n",
       "    }\n",
       "\n",
       "    .dataframe thead th {\n",
       "        text-align: right;\n",
       "    }\n",
       "</style>\n",
       "<table border=\"1\" class=\"dataframe\">\n",
       "  <thead>\n",
       "    <tr style=\"text-align: right;\">\n",
       "      <th></th>\n",
       "      <th>API Number</th>\n",
       "      <th>Operator</th>\n",
       "      <th>Well Name</th>\n",
       "      <th>Well Number</th>\n",
       "      <th>Northing</th>\n",
       "      <th>Easting</th>\n",
       "      <th>Well Status</th>\n",
       "      <th>Class</th>\n",
       "      <th>Total Depth</th>\n",
       "      <th>Datum Elevation</th>\n",
       "      <th>...</th>\n",
       "      <th>Ground Elevation</th>\n",
       "      <th>Plugback Depth</th>\n",
       "      <th>Spud Date</th>\n",
       "      <th>Completion Date</th>\n",
       "      <th>Common Well Name</th>\n",
       "      <th>Legal Survey Type</th>\n",
       "      <th>Location</th>\n",
       "      <th>Geog. Proj.</th>\n",
       "      <th>WLBR_ID</th>\n",
       "      <th>LEN</th>\n",
       "    </tr>\n",
       "  </thead>\n",
       "  <tbody>\n",
       "    <tr>\n",
       "      <th>0</th>\n",
       "      <td>490251039700</td>\n",
       "      <td>U.S. DOE</td>\n",
       "      <td>NPR-3</td>\n",
       "      <td>34-A-21</td>\n",
       "      <td>974652.3</td>\n",
       "      <td>794810.9</td>\n",
       "      <td>PA</td>\n",
       "      <td>I</td>\n",
       "      <td>2914.0</td>\n",
       "      <td>4921.0</td>\n",
       "      <td>...</td>\n",
       "      <td>4911.0</td>\n",
       "      <td>NaN</td>\n",
       "      <td>1977-07-08</td>\n",
       "      <td>NaN</td>\n",
       "      <td>34-A-21</td>\n",
       "      <td>CONGRESS</td>\n",
       "      <td>TWP: 39  N - Range: 78 W - Sec. 21</td>\n",
       "      <td>All Coordinates in Wyoming East Central State ...</td>\n",
       "      <td>490251039700</td>\n",
       "      <td>12</td>\n",
       "    </tr>\n",
       "    <tr>\n",
       "      <th>1</th>\n",
       "      <td>490250631800</td>\n",
       "      <td>U.S. DOE</td>\n",
       "      <td>NPR-3</td>\n",
       "      <td>82-S-14</td>\n",
       "      <td>950092.0</td>\n",
       "      <td>808959.2</td>\n",
       "      <td>PR</td>\n",
       "      <td>O</td>\n",
       "      <td>1286.0</td>\n",
       "      <td>5293.0</td>\n",
       "      <td>...</td>\n",
       "      <td>5288.0</td>\n",
       "      <td>NaN</td>\n",
       "      <td>1962-07-04</td>\n",
       "      <td>7/6/62</td>\n",
       "      <td>82-S-14</td>\n",
       "      <td>CONGRESS</td>\n",
       "      <td>TWP: 38  N - Range: 78 W - Sec. 14</td>\n",
       "      <td>All Coordinates in Wyoming East Central State ...</td>\n",
       "      <td>490250631800</td>\n",
       "      <td>12</td>\n",
       "    </tr>\n",
       "  </tbody>\n",
       "</table>\n",
       "<p>2 rows × 27 columns</p>\n",
       "</div>"
      ],
      "text/plain": [
       "     API Number  Operator Well Name Well Number  Northing   Easting  \\\n",
       "0  490251039700  U.S. DOE     NPR-3     34-A-21  974652.3  794810.9   \n",
       "1  490250631800  U.S. DOE     NPR-3     82-S-14  950092.0  808959.2   \n",
       "\n",
       "  Well Status Class  Total Depth  Datum Elevation  ... Ground Elevation  \\\n",
       "0          PA     I       2914.0           4921.0  ...           4911.0   \n",
       "1          PR     O       1286.0           5293.0  ...           5288.0   \n",
       "\n",
       "  Plugback Depth   Spud Date Completion Date Common Well Name  \\\n",
       "0            NaN  1977-07-08             NaN          34-A-21   \n",
       "1            NaN  1962-07-04          7/6/62          82-S-14   \n",
       "\n",
       "  Legal Survey Type                             Location  \\\n",
       "0          CONGRESS  TWP: 39  N - Range: 78 W - Sec. 21    \n",
       "1          CONGRESS  TWP: 38  N - Range: 78 W - Sec. 14    \n",
       "\n",
       "                                         Geog. Proj.       WLBR_ID LEN  \n",
       "0  All Coordinates in Wyoming East Central State ...  490251039700  12  \n",
       "1  All Coordinates in Wyoming East Central State ...  490250631800  12  \n",
       "\n",
       "[2 rows x 27 columns]"
      ]
     },
     "metadata": {},
     "output_type": "display_data"
    },
    {
     "data": {
      "text/plain": [
       "count    1317.0\n",
       "mean       12.0\n",
       "std         0.0\n",
       "min        12.0\n",
       "25%        12.0\n",
       "50%        12.0\n",
       "75%        12.0\n",
       "max        12.0\n",
       "Name: LEN, dtype: float64"
      ]
     },
     "execution_count": 4,
     "metadata": {},
     "output_type": "execute_result"
    }
   ],
   "source": [
    "df['WLBR_ID'] =df['API Number'].astype(str) # Create WLBR_ID as a string\n",
    "df['LEN'] = df['WLBR_ID'].str.len()         # Creat LEN as the lenght of the WLBR_ID string \n",
    "display(df.head(2))                        # Need to use the display() with muliple printing commands \n",
    "df['LEN'].describe()                       # ANSWER: ALL WLBR_ID HAVE A LENGHT OF 12 \n"
   ]
  },
  {
   "cell_type": "markdown",
   "metadata": {},
   "source": [
    "### Are there any sidtrack wells?\n",
    "- The last two digits of the WLBR_ID string designates the sidtrack for older 12 digit WLBR_IDs.\n",
    "- New WLBR_IDs have 14 digits, with an event sequence appended\n",
    "- Find the records that are sidetracks, i.e. not equal '00'\n",
    "#### Interpreting API Number:\n",
    "        State CD, County CD, Unique Well ID, Side Track, Event Sequence CD\n",
    "          XX        XXX          XXXXX          XX             XX           e.g., 49-025-23195-00-00"
   ]
  },
  {
   "cell_type": "code",
   "execution_count": 5,
   "metadata": {},
   "outputs": [
    {
     "data": {
      "text/plain": [
       "WLBR_ID    18\n",
       "ST         18\n",
       "dtype: int64"
      ]
     },
     "execution_count": 5,
     "metadata": {},
     "output_type": "execute_result"
    }
   ],
   "source": [
    "df['ST'] = df['WLBR_ID'].str[-2:]                 # Strip last two digits of a text string\n",
    "#df['ST'] = df['WLBR_ID'].str.strip().str[-1]     # Strip last digit of a text string\n",
    "Side_Track=df.loc[df ['ST'] != '00']              # DataFrame contain only wells with side tracks\n",
    "#Side_Track.describe().astype(int)                # Statistics as intergers\n",
    "Side_Track[['WLBR_ID', 'ST']].count()             # Report number of Side Track Wells"
   ]
  },
  {
   "cell_type": "markdown",
   "metadata": {},
   "source": [
    "### Look for Duplicate Unique WLBR_ID"
   ]
  },
  {
   "cell_type": "code",
   "execution_count": 6,
   "metadata": {
    "scrolled": true
   },
   "outputs": [
    {
     "name": "stdout",
     "output_type": "stream",
     "text": [
      "Empty DataFrame\n",
      "Columns: [API Number, Operator, Well Name, Well Number, Northing, Easting, Well Status, Class, Total Depth, Datum Elevation, Datum Type, State, County, Country, Field, Basin, Lease Name, Ground Elevation, Plugback Depth, Spud Date, Completion Date, Common Well Name, Legal Survey Type, Location, Geog. Proj., WLBR_ID, LEN, ST]\n",
      "Index: []\n",
      "\n",
      "[0 rows x 28 columns]\n"
     ]
    }
   ],
   "source": [
    "Duplicate = df[df.duplicated('WLBR_ID')]  # Looks for duplicates of a single variable\n",
    "#Duplicate = df[df.duplicated(0)]         # Looks for duplicates record\n",
    "print(Duplicate)"
   ]
  },
  {
   "cell_type": "markdown",
   "metadata": {},
   "source": [
    "### Examine Spud Dates\n",
    "- Pandas imports CSV or Excel dates as objects, aka string with format: YYYY-MM-DD\n",
    "- Make sure your CSV or Excel file have 4 digit years!\n",
    "- Pandas DateTime function can convert strings to a Dtype DateTime if needed\n"
   ]
  },
  {
   "cell_type": "markdown",
   "metadata": {},
   "source": [
    "### Convert Spud Date to Decades for charting"
   ]
  },
  {
   "cell_type": "code",
   "execution_count": 7,
   "metadata": {},
   "outputs": [
    {
     "name": "stdout",
     "output_type": "stream",
     "text": [
      "  Decade  Count\n",
      "7   1910      2\n",
      "4   1920     81\n",
      "6   1950     13\n",
      "3   1960    115\n",
      "1   1970    376\n",
      "0   1980    456\n",
      "2   1990    236\n",
      "5   2000     24\n"
     ]
    }
   ],
   "source": [
    "df['Decade']= df['Spud Date'].str[0:3] + '0'                       # Convert Spud Date string to decade\n",
    "cnt = df['Decade'].value_counts()                                  # Get a count of the decades   \n",
    "cnt = cnt.to_frame()                                               # Convert cnt to a DataFrame\n",
    "cnt.reset_index(inplace=True)                                      # Convert the index to a DataFrame column\n",
    "cnt = cnt.rename(columns = {'index':'Decade', 'Decade': 'Count'})  # Rename the columns\n",
    "cnt.sort_values(by=['Decade'], inplace=True, ascending=True)       # Sort the DataFrame by decades for charting\n",
    "print(cnt)\n"
   ]
  },
  {
   "cell_type": "markdown",
   "metadata": {},
   "source": [
    "### Bar Chart of Spud Year by decade"
   ]
  },
  {
   "cell_type": "code",
   "execution_count": 8,
   "metadata": {},
   "outputs": [
    {
     "data": {
      "image/png": "[encoded data removed]",
      "text/plain": [
       "<Figure size 432x288 with 1 Axes>"
      ]
     },
     "metadata": {},
     "output_type": "display_data"
    }
   ],
   "source": [
    "plt.bar(cnt['Decade'], cnt['Count'], width=.8, color='b')\n",
    "plt.title('Wells Drilled in Teapot Dome Field, Wyoming', fontsize=14, color='blue')\n",
    "plt.xlabel('Decades', fontsize=16, color='blue')\n",
    "plt.ylabel('Frequency', fontsize=16, color=\"blue\")\n",
    "plt.show()"
   ]
  },
  {
   "cell_type": "markdown",
   "metadata": {},
   "source": [
    "### Make an map of surface elevation"
   ]
  },
  {
   "cell_type": "code",
   "execution_count": 11,
   "metadata": {
    "scrolled": true
   },
   "outputs": [
    {
     "ename": "AttributeError",
     "evalue": "'Series' object has no attribute 'clabel'",
     "output_type": "error",
     "traceback": [
      "\u001b[0;31m---------------------------------------------------------------------------\u001b[0m",
      "\u001b[0;31mAttributeError\u001b[0m                            Traceback (most recent call last)",
      "\u001b[0;32m<ipython-input-11-c512c93e1ddb>\u001b[0m in \u001b[0;36m<module>\u001b[0;34m\u001b[0m\n\u001b[1;32m      1\u001b[0m \u001b[0mplt\u001b[0m\u001b[0;34m.\u001b[0m\u001b[0mtricontour\u001b[0m\u001b[0;34m(\u001b[0m\u001b[0mdf\u001b[0m\u001b[0;34m[\u001b[0m\u001b[0;34m'Easting'\u001b[0m\u001b[0;34m]\u001b[0m\u001b[0;34m,\u001b[0m \u001b[0mdf\u001b[0m\u001b[0;34m[\u001b[0m\u001b[0;34m'Northing'\u001b[0m\u001b[0;34m]\u001b[0m\u001b[0;34m,\u001b[0m \u001b[0mdf\u001b[0m\u001b[0;34m[\u001b[0m\u001b[0;34m'Datum Elevation'\u001b[0m\u001b[0;34m]\u001b[0m\u001b[0;34m,\u001b[0m \u001b[0;36m15\u001b[0m\u001b[0;34m,\u001b[0m \u001b[0mlinewidths\u001b[0m\u001b[0;34m=\u001b[0m\u001b[0;36m0.5\u001b[0m\u001b[0;34m,\u001b[0m \u001b[0mcolors\u001b[0m\u001b[0;34m=\u001b[0m\u001b[0;34m'k'\u001b[0m\u001b[0;34m)\u001b[0m\u001b[0;34m\u001b[0m\u001b[0;34m\u001b[0m\u001b[0m\n\u001b[0;32m----> 2\u001b[0;31m \u001b[0mplt\u001b[0m\u001b[0;34m.\u001b[0m\u001b[0mclabel\u001b[0m\u001b[0;34m(\u001b[0m\u001b[0mdf\u001b[0m\u001b[0;34m[\u001b[0m\u001b[0;34m'Datum Elevation'\u001b[0m\u001b[0;34m]\u001b[0m\u001b[0;34m,\u001b[0m \u001b[0;36m15\u001b[0m\u001b[0;34m)\u001b[0m\u001b[0;34m\u001b[0m\u001b[0;34m\u001b[0m\u001b[0m\n\u001b[0m\u001b[1;32m      3\u001b[0m \u001b[0mplt\u001b[0m\u001b[0;34m.\u001b[0m\u001b[0mscatter\u001b[0m\u001b[0;34m(\u001b[0m\u001b[0mdf\u001b[0m\u001b[0;34m[\u001b[0m\u001b[0;34m'Easting'\u001b[0m\u001b[0;34m]\u001b[0m\u001b[0;34m,\u001b[0m \u001b[0mdf\u001b[0m\u001b[0;34m[\u001b[0m\u001b[0;34m'Northing'\u001b[0m\u001b[0;34m]\u001b[0m\u001b[0;34m,\u001b[0m \u001b[0mc\u001b[0m\u001b[0;34m=\u001b[0m\u001b[0mdf\u001b[0m\u001b[0;34m[\u001b[0m\u001b[0;34m'Datum Elevation'\u001b[0m\u001b[0;34m]\u001b[0m\u001b[0;34m,\u001b[0m \u001b[0mlabel\u001b[0m\u001b[0;34m=\u001b[0m\u001b[0;34m\"Elevation\"\u001b[0m\u001b[0;34m,\u001b[0m \u001b[0ms\u001b[0m\u001b[0;34m=\u001b[0m\u001b[0;36m10\u001b[0m\u001b[0;34m,\u001b[0m \u001b[0mcmap\u001b[0m\u001b[0;34m=\u001b[0m\u001b[0;34m'RdYlBu'\u001b[0m\u001b[0;34m)\u001b[0m\u001b[0;34m\u001b[0m\u001b[0;34m\u001b[0m\u001b[0m\n\u001b[1;32m      4\u001b[0m \u001b[0mplt\u001b[0m\u001b[0;34m.\u001b[0m\u001b[0mcolorbar\u001b[0m\u001b[0;34m(\u001b[0m\u001b[0;34m)\u001b[0m\u001b[0;34m\u001b[0m\u001b[0;34m\u001b[0m\u001b[0m\n\u001b[1;32m      5\u001b[0m \u001b[0mplt\u001b[0m\u001b[0;34m.\u001b[0m\u001b[0mtitle\u001b[0m\u001b[0;34m(\u001b[0m\u001b[0;34m'Datum Elevation, Teapot Dome Field, Wyoming'\u001b[0m\u001b[0;34m,\u001b[0m \u001b[0mfontsize\u001b[0m\u001b[0;34m=\u001b[0m\u001b[0;36m14\u001b[0m\u001b[0;34m,\u001b[0m \u001b[0mcolor\u001b[0m\u001b[0;34m=\u001b[0m\u001b[0;34m'blue'\u001b[0m\u001b[0;34m)\u001b[0m\u001b[0;34m\u001b[0m\u001b[0;34m\u001b[0m\u001b[0m\n",
      "\u001b[0;32m~/opt/anaconda3/lib/python3.8/site-packages/matplotlib/pyplot.py\u001b[0m in \u001b[0;36mclabel\u001b[0;34m(CS, levels, **kwargs)\u001b[0m\n\u001b[1;32m   2546\u001b[0m \u001b[0;34m@\u001b[0m\u001b[0m_copy_docstring_and_deprecators\u001b[0m\u001b[0;34m(\u001b[0m\u001b[0mAxes\u001b[0m\u001b[0;34m.\u001b[0m\u001b[0mclabel\u001b[0m\u001b[0;34m)\u001b[0m\u001b[0;34m\u001b[0m\u001b[0;34m\u001b[0m\u001b[0m\n\u001b[1;32m   2547\u001b[0m \u001b[0;32mdef\u001b[0m \u001b[0mclabel\u001b[0m\u001b[0;34m(\u001b[0m\u001b[0mCS\u001b[0m\u001b[0;34m,\u001b[0m \u001b[0mlevels\u001b[0m\u001b[0;34m=\u001b[0m\u001b[0;32mNone\u001b[0m\u001b[0;34m,\u001b[0m \u001b[0;34m**\u001b[0m\u001b[0mkwargs\u001b[0m\u001b[0;34m)\u001b[0m\u001b[0;34m:\u001b[0m\u001b[0;34m\u001b[0m\u001b[0;34m\u001b[0m\u001b[0m\n\u001b[0;32m-> 2548\u001b[0;31m     \u001b[0;32mreturn\u001b[0m \u001b[0mgca\u001b[0m\u001b[0;34m(\u001b[0m\u001b[0;34m)\u001b[0m\u001b[0;34m.\u001b[0m\u001b[0mclabel\u001b[0m\u001b[0;34m(\u001b[0m\u001b[0mCS\u001b[0m\u001b[0;34m,\u001b[0m \u001b[0mlevels\u001b[0m\u001b[0;34m=\u001b[0m\u001b[0mlevels\u001b[0m\u001b[0;34m,\u001b[0m \u001b[0;34m**\u001b[0m\u001b[0mkwargs\u001b[0m\u001b[0;34m)\u001b[0m\u001b[0;34m\u001b[0m\u001b[0;34m\u001b[0m\u001b[0m\n\u001b[0m\u001b[1;32m   2549\u001b[0m \u001b[0;34m\u001b[0m\u001b[0m\n\u001b[1;32m   2550\u001b[0m \u001b[0;34m\u001b[0m\u001b[0m\n",
      "\u001b[0;32m~/opt/anaconda3/lib/python3.8/site-packages/matplotlib/axes/_axes.py\u001b[0m in \u001b[0;36mclabel\u001b[0;34m(self, CS, levels, **kwargs)\u001b[0m\n\u001b[1;32m   6361\u001b[0m             \u001b[0mAll\u001b[0m \u001b[0mother\u001b[0m \u001b[0mparameters\u001b[0m \u001b[0mare\u001b[0m \u001b[0mdocumented\u001b[0m \u001b[0;32min\u001b[0m\u001b[0;31m \u001b[0m\u001b[0;31m`\u001b[0m\u001b[0;34m~\u001b[0m\u001b[0;34m.\u001b[0m\u001b[0mContourLabeler\u001b[0m\u001b[0;34m.\u001b[0m\u001b[0mclabel\u001b[0m\u001b[0;31m`\u001b[0m\u001b[0;34m.\u001b[0m\u001b[0;34m\u001b[0m\u001b[0;34m\u001b[0m\u001b[0m\n\u001b[1;32m   6362\u001b[0m         \"\"\"\n\u001b[0;32m-> 6363\u001b[0;31m         \u001b[0;32mreturn\u001b[0m \u001b[0mCS\u001b[0m\u001b[0;34m.\u001b[0m\u001b[0mclabel\u001b[0m\u001b[0;34m(\u001b[0m\u001b[0mlevels\u001b[0m\u001b[0;34m,\u001b[0m \u001b[0;34m**\u001b[0m\u001b[0mkwargs\u001b[0m\u001b[0;34m)\u001b[0m\u001b[0;34m\u001b[0m\u001b[0;34m\u001b[0m\u001b[0m\n\u001b[0m\u001b[1;32m   6364\u001b[0m \u001b[0;34m\u001b[0m\u001b[0m\n\u001b[1;32m   6365\u001b[0m     \u001b[0;31m#### Data analysis\u001b[0m\u001b[0;34m\u001b[0m\u001b[0;34m\u001b[0m\u001b[0;34m\u001b[0m\u001b[0m\n",
      "\u001b[0;32m~/opt/anaconda3/lib/python3.8/site-packages/pandas/core/generic.py\u001b[0m in \u001b[0;36m__getattr__\u001b[0;34m(self, name)\u001b[0m\n\u001b[1;32m   5137\u001b[0m             \u001b[0;32mif\u001b[0m \u001b[0mself\u001b[0m\u001b[0;34m.\u001b[0m\u001b[0m_info_axis\u001b[0m\u001b[0;34m.\u001b[0m\u001b[0m_can_hold_identifiers_and_holds_name\u001b[0m\u001b[0;34m(\u001b[0m\u001b[0mname\u001b[0m\u001b[0;34m)\u001b[0m\u001b[0;34m:\u001b[0m\u001b[0;34m\u001b[0m\u001b[0;34m\u001b[0m\u001b[0m\n\u001b[1;32m   5138\u001b[0m                 \u001b[0;32mreturn\u001b[0m \u001b[0mself\u001b[0m\u001b[0;34m[\u001b[0m\u001b[0mname\u001b[0m\u001b[0;34m]\u001b[0m\u001b[0;34m\u001b[0m\u001b[0;34m\u001b[0m\u001b[0m\n\u001b[0;32m-> 5139\u001b[0;31m             \u001b[0;32mreturn\u001b[0m \u001b[0mobject\u001b[0m\u001b[0;34m.\u001b[0m\u001b[0m__getattribute__\u001b[0m\u001b[0;34m(\u001b[0m\u001b[0mself\u001b[0m\u001b[0;34m,\u001b[0m \u001b[0mname\u001b[0m\u001b[0;34m)\u001b[0m\u001b[0;34m\u001b[0m\u001b[0;34m\u001b[0m\u001b[0m\n\u001b[0m\u001b[1;32m   5140\u001b[0m \u001b[0;34m\u001b[0m\u001b[0m\n\u001b[1;32m   5141\u001b[0m     \u001b[0;32mdef\u001b[0m \u001b[0m__setattr__\u001b[0m\u001b[0;34m(\u001b[0m\u001b[0mself\u001b[0m\u001b[0;34m,\u001b[0m \u001b[0mname\u001b[0m\u001b[0;34m:\u001b[0m \u001b[0mstr\u001b[0m\u001b[0;34m,\u001b[0m \u001b[0mvalue\u001b[0m\u001b[0;34m)\u001b[0m \u001b[0;34m->\u001b[0m \u001b[0;32mNone\u001b[0m\u001b[0;34m:\u001b[0m\u001b[0;34m\u001b[0m\u001b[0;34m\u001b[0m\u001b[0m\n",
      "\u001b[0;31mAttributeError\u001b[0m: 'Series' object has no attribute 'clabel'"
     ]
    },
    {
     "data": {
      "image/png": "[encoded data removed]",
      "text/plain": [
       "<Figure size 432x288 with 1 Axes>"
      ]
     },
     "metadata": {},
     "output_type": "display_data"
    }
   ],
   "source": [
    "plt.tricontour(df['Easting'], df['Northing'], df['Datum Elevation'], 15, linewidths=0.5, colors='k')\n",
    "plt.clabel(df['Datum Elevation'], 15)\n",
    "plt.scatter(df['Easting'], df['Northing'], c=df['Datum Elevation'], label=\"Elevation\", s=10, cmap='RdYlBu')\n",
    "plt.colorbar()\n",
    "plt.title('Datum Elevation, Teapot Dome Field, Wyoming', fontsize=14, color='blue')\n",
    "plt.xlabel('Easting', fontsize=16, color='blue')\n",
    "plt.ylabel('Northing', fontsize=16, color=\"blue\")\n",
    "plt.show()\n"
   ]
  }
 ],
 "metadata": {
  "kernelspec": {
   "display_name": "Python 3",
   "language": "python",
   "name": "python3"
  },
  "language_info": {
   "codemirror_mode": {
    "name": "ipython",
    "version": 3
   },
   "file_extension": ".py",
   "mimetype": "text/x-python",
   "name": "python",
   "nbconvert_exporter": "python",
   "pygments_lexer": "ipython3",
   "version": "3.8.5"
  }
 },
 "nbformat": 4,
 "nbformat_minor": 4
}
