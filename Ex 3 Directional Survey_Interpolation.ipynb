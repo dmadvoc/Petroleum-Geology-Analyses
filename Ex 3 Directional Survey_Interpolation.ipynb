{
 "cells": [
  {
   "cell_type": "markdown",
   "metadata": {},
   "source": [
    "# Interpolates TVD depths for Formation tops \n",
    "Based on a directional survey for wellbores"
   ]
  },
  {
   "cell_type": "code",
   "execution_count": 1,
   "metadata": {},
   "outputs": [],
   "source": [
    "import pandas as pd\n",
    "import numpy as np\n",
    "import matplotlib.pyplot as plt\n",
    "import seaborn as sb\n",
    "\n"
   ]
  },
  {
   "cell_type": "markdown",
   "metadata": {},
   "source": [
    "### Import directional survey and formation tops from Excel file / fix variable names for a merge"
   ]
  },
  {
   "cell_type": "code",
   "execution_count": 4,
   "metadata": {
    "scrolled": true
   },
   "outputs": [],
   "source": [
    "# df1 = pd.read_excel ('/Users/davidadvocate/Documents/Python/Data/sE3 Survey.xlsx',\n",
    "#                     sheet_name='Survey')\n",
    "# df2 = pd.read_excel ('/Users/davidadvocate/Documents/Python/Data/sE3 Survey.xlsx',\n",
    "#                     sheet_name='Tops')\n",
    "\n",
    "# df2.rename(columns={\"Depth_Ft\": \"Depth_FT\"}, inplace=True)"
   ]
  },
  {
   "cell_type": "code",
   "execution_count": 10,
   "metadata": {},
   "outputs": [],
   "source": [
    "# Read Excel XLSX files from Github\n",
    "\n",
    "import requests\n",
    "import io\n",
    "from io import BytesIO\n",
    "\n",
    "# Read sheets from XLSX file\n",
    "# Note, You can not get the url path by clicking on \"RAW\" as with the CSV file, You'll have to know the sheet names\n",
    "url = \"https://raw.githubusercontent.com/dmadvoc/Petroleum-Geology-Analyses/main/sE3 Survey.xlsx\"\n",
    "download = requests.get(url).content\n",
    "df1 = pd.read_excel(BytesIO(download), sheet_name='Survey') # This is a survey for 1 well\n",
    "df2 = pd.read_excel(BytesIO(download), sheet_name='Tops')   # This well has four tops\n",
    "\n",
    "df2.rename(columns={\"Depth_Ft\": \"Depth_FT\"}, inplace=True)\n",
    "\n",
    "# Convert Depth_FT from float to integer for merge with df1\n",
    "df2['Depth_FT']=df2['Depth_FT'].astype(int) \n",
    "\n"
   ]
  },
  {
   "cell_type": "markdown",
   "metadata": {},
   "source": [
    "### Merge and sort dataframes"
   ]
  },
  {
   "cell_type": "code",
   "execution_count": 17,
   "metadata": {},
   "outputs": [
    {
     "name": "stdout",
     "output_type": "stream",
     "text": [
      "<class 'pandas.core.frame.DataFrame'>\n",
      "RangeIndex: 56 entries, 0 to 55\n",
      "Data columns (total 2 columns):\n",
      " #   Column    Non-Null Count  Dtype  \n",
      "---  ------    --------------  -----  \n",
      " 0   Depth_FT  56 non-null     int64  \n",
      " 1   TVD_FT    56 non-null     float64\n",
      "dtypes: float64(1), int64(1)\n",
      "memory usage: 1.0 KB\n",
      "<class 'pandas.core.frame.DataFrame'>\n",
      "RangeIndex: 4 entries, 0 to 3\n",
      "Data columns (total 2 columns):\n",
      " #   Column    Non-Null Count  Dtype \n",
      "---  ------    --------------  ----- \n",
      " 0   FM_Name   4 non-null      object\n",
      " 1   Depth_FT  4 non-null      int64 \n",
      "dtypes: int64(1), object(1)\n",
      "memory usage: 192.0+ bytes\n",
      "  FM_Name  Depth_FT\n",
      "0    F3WC      3429\n",
      "1    MDDY      4021\n",
      "2    MWRY      3747\n",
      "3    THRM      4044\n"
     ]
    }
   ],
   "source": [
    "# Examine Directions Survey (df1) and Formation Tops(df2) before merging\n",
    "df1.info()\n",
    "df2.info()\n",
    "print(df2)"
   ]
  },
  {
   "cell_type": "code",
   "execution_count": 18,
   "metadata": {
    "scrolled": false
   },
   "outputs": [
    {
     "name": "stdout",
     "output_type": "stream",
     "text": [
      "    Depth_FT       TVD_FT FM_Name\n",
      "0          0     0.000000     NaN\n",
      "1        315   314.412462     NaN\n",
      "2        648   644.638959     NaN\n",
      "3        955   950.562266     NaN\n",
      "4       1003   998.456737     NaN\n",
      "5       1035  1030.393592     NaN\n",
      "6       1291  1285.171807     NaN\n",
      "7       1354  1347.715519     NaN\n",
      "8       1416  1409.112139     NaN\n",
      "9       1456  1448.608692     NaN\n",
      "10      1518  1509.406800     NaN\n",
      "11      1549  1539.784466     NaN\n",
      "12      1701  1685.896244     NaN\n",
      "13      1737  1720.359746     NaN\n",
      "14      1769  1750.928654     NaN\n",
      "15      1824  1803.116834     NaN\n",
      "16      1855  1832.356737     NaN\n",
      "17      1886  1861.450020     NaN\n",
      "18      1918  1891.403925     NaN\n",
      "19      1950  1921.197712     NaN\n",
      "20      1981  1949.960635     NaN\n",
      "21      2013  1979.546109     NaN\n",
      "22      2044  2007.931649     NaN\n",
      "23      2076  2037.073526     NaN\n",
      "24      2139  2094.401086     NaN\n",
      "25      2202  2152.043545     NaN\n",
      "26      2264  2208.858034     NaN\n",
      "27      2643  2537.741141     NaN\n",
      "28      2768  2645.222675     NaN\n",
      "29      2831  2699.110624     NaN\n",
      "30      2894  2753.112164     NaN\n",
      "31      2957  2807.113703     NaN\n",
      "32      3020  2861.340451     NaN\n",
      "33      3082  2914.870975     NaN\n",
      "34      3113  2941.636237     NaN\n",
      "35      3255  3064.238406     NaN\n",
      "36      3316  3118.924078     NaN\n",
      "37      3347  3146.642859     NaN\n",
      "38      3410  3202.268558     NaN\n",
      "56      3429          NaN    F3WC\n",
      "39      3472  3256.123711     NaN\n",
      "40      3537  3312.071943     NaN\n",
      "41      3600  3365.788274     NaN\n",
      "42      3663  3418.504425     NaN\n",
      "43      3724  3468.411558     NaN\n",
      "58      3747          NaN    MWRY\n",
      "44      3789  3521.979760     NaN\n",
      "45      3853  3575.038165     NaN\n",
      "46      3915  3627.035740     NaN\n",
      "47      3976  3678.252552     NaN\n",
      "57      4021          NaN    MDDY\n",
      "48      4040  3731.497616     NaN\n",
      "59      4044          NaN    THRM\n",
      "49      4102  3782.222898     NaN\n",
      "50      4165  3833.255522     NaN\n",
      "51      4227  3882.835970     NaN\n",
      "52      4275  3921.271076     NaN\n",
      "53      4321  3957.959937     NaN\n",
      "54      4370  3996.519753     NaN\n",
      "55      4435  4047.670529     NaN\n"
     ]
    }
   ],
   "source": [
    "df3 = pd.merge(df1,df2, left_on='Depth_FT', right_on='Depth_FT', how='outer')\n",
    "\n",
    "df3.sort_values(by=['Depth_FT'], inplace=True, ascending=True)\n",
    "print(df3)"
   ]
  },
  {
   "cell_type": "markdown",
   "metadata": {},
   "source": [
    "### Calculate the True Vertical Depths for FM tops\n",
    "Note: this code won't work if there are two tops between surounding survey TVD points"
   ]
  },
  {
   "cell_type": "code",
   "execution_count": 14,
   "metadata": {},
   "outputs": [
    {
     "data": {
      "text/html": [
       "<div>\n",
       "<style scoped>\n",
       "    .dataframe tbody tr th:only-of-type {\n",
       "        vertical-align: middle;\n",
       "    }\n",
       "\n",
       "    .dataframe tbody tr th {\n",
       "        vertical-align: top;\n",
       "    }\n",
       "\n",
       "    .dataframe thead th {\n",
       "        text-align: right;\n",
       "    }\n",
       "</style>\n",
       "<table border=\"1\" class=\"dataframe\">\n",
       "  <thead>\n",
       "    <tr style=\"text-align: right;\">\n",
       "      <th></th>\n",
       "      <th>FM_Name</th>\n",
       "      <th>Depth_FT</th>\n",
       "      <th>TVD_FT</th>\n",
       "    </tr>\n",
       "  </thead>\n",
       "  <tbody>\n",
       "    <tr>\n",
       "      <th>56</th>\n",
       "      <td>F3WC</td>\n",
       "      <td>3429</td>\n",
       "      <td>3218.772556</td>\n",
       "    </tr>\n",
       "    <tr>\n",
       "      <th>58</th>\n",
       "      <td>MWRY</td>\n",
       "      <td>3747</td>\n",
       "      <td>3487.366460</td>\n",
       "    </tr>\n",
       "    <tr>\n",
       "      <th>57</th>\n",
       "      <td>MDDY</td>\n",
       "      <td>4021</td>\n",
       "      <td>3715.690487</td>\n",
       "    </tr>\n",
       "    <tr>\n",
       "      <th>59</th>\n",
       "      <td>THRM</td>\n",
       "      <td>4044</td>\n",
       "      <td>3734.770215</td>\n",
       "    </tr>\n",
       "  </tbody>\n",
       "</table>\n",
       "</div>"
      ],
      "text/plain": [
       "   FM_Name  Depth_FT       TVD_FT\n",
       "56    F3WC      3429  3218.772556\n",
       "58    MWRY      3747  3487.366460\n",
       "57    MDDY      4021  3715.690487\n",
       "59    THRM      4044  3734.770215"
      ]
     },
     "execution_count": 14,
     "metadata": {},
     "output_type": "execute_result"
    }
   ],
   "source": [
    "# Calculate MD above and below FM Top MD and determinte percent change for measured depth\n",
    "df3['shift_dep'] = df3['Depth_FT'].shift(-1)\n",
    "df3['shift_dep2']= df3['Depth_FT'].shift(1)\n",
    "df3['del_shift_dep'] = df3['shift_dep'] - df3['shift_dep2']\n",
    "df3['del_shift_dep2'] = df3['Depth_FT'] - df3['shift_dep2'] \n",
    "df3['pct_del_dep'] = (df3['del_shift_dep2'] / df3['del_shift_dep']) \n",
    "\n",
    "# Calculate the difference in TVD above and below the Top\n",
    "df3['shift_tvd'] = df3['TVD_FT'].shift(-1)\n",
    "df3['shift_tvd2']= df3['TVD_FT'].shift(1)\n",
    "df3['del_shift_tvd'] = df3['shift_tvd'] - df3['shift_tvd2']\n",
    "\n",
    "# Calculate the FM Tops Interpreted TVD for their MD\n",
    "df3['interp_tvd'] = df3['shift_tvd2'] + df3['pct_del_dep'] * df3['del_shift_tvd']\n",
    "\n",
    "# Output dataframe for FM Tops, Measured Depth and True Vertical Depth\n",
    "out = df3[df3['FM_Name'].notna()]\n",
    "out = out[['FM_Name', 'Depth_FT', 'TVD_FT' , 'interp_tvd']]\n",
    "out['TVD_FT'] = out['interp_tvd']\n",
    "out = out[['FM_Name', 'Depth_FT', 'TVD_FT']]\n",
    "\n",
    "out"
   ]
  },
  {
   "cell_type": "markdown",
   "metadata": {},
   "source": [
    "### Plot the results"
   ]
  },
  {
   "cell_type": "code",
   "execution_count": 52,
   "metadata": {},
   "outputs": [
    {
     "data": {
      "image/png": "[encoded data removed]",
      "text/plain": [
       "<Figure size 576x432 with 1 Axes>"
      ]
     },
     "metadata": {
      "needs_background": "light"
     },
     "output_type": "display_data"
    }
   ],
   "source": [
    "x=np.array(out['Depth_FT'])\n",
    "y=np.array(out['TVD_FT'])\n",
    "labels=np.array(out['FM_Name'])\n",
    "\n",
    "fig=plt.subplots(figsize=(8,6))\n",
    "plt.scatter(out['Depth_FT'], out['TVD_FT'], c='red', s=50, label ='Interpolated Tops TVD')\n",
    "plt.scatter(df1['Depth_FT'], df1['TVD_FT'], c='k', marker='+', label='Directional Survey')\n",
    "\n",
    "for i, txt in enumerate(labels):\n",
    "    plt.annotate(txt, (x[i]+20, y[i]), fontsize=14)\n",
    "\n",
    "plt.legend(shadow=True, fontsize=14)\n",
    "plt.xlim(3400, 4200)\n",
    "plt.ylim(3100, 3800)\n",
    "plt.grid(linestyle='--')\n",
    "plt.xlabel('Measured Depth, FT', fontsize=16)\n",
    "plt.ylabel('True Vertical Depth, FT', fontsize=16)\n",
    "plt.show()"
   ]
  }
 ],
 "metadata": {
  "kernelspec": {
   "display_name": "Python 3",
   "language": "python",
   "name": "python3"
  },
  "language_info": {
   "codemirror_mode": {
    "name": "ipython",
    "version": 3
   },
   "file_extension": ".py",
   "mimetype": "text/x-python",
   "name": "python",
   "nbconvert_exporter": "python",
   "pygments_lexer": "ipython3",
   "version": "3.8.5"
  }
 },
 "nbformat": 4,
 "nbformat_minor": 4
}
